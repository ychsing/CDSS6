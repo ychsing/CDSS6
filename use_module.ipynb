{
 "cells": [
  {
   "cell_type": "code",
   "execution_count": 1,
   "metadata": {},
   "outputs": [
    {
     "name": "stdout",
     "output_type": "stream",
     "text": [
      "2.1.0-rc1\n",
      "2.3.1\n"
     ]
    },
    {
     "name": "stderr",
     "output_type": "stream",
     "text": [
      "Using TensorFlow backend.\n"
     ]
    }
   ],
   "source": [
    "import tensorflow as tf\n",
    "print(tf.__version__) # 2.1.0-rc1\n",
    "import keras\n",
    "print(keras.__version__) #2.3.1"
   ]
  },
  {
   "cell_type": "code",
   "execution_count": 2,
   "metadata": {},
   "outputs": [],
   "source": [
    "import json\n",
    "from module import MatchResult\n",
    "with open('criterias.json') as f:\n",
    "    criterias = json.load(f)"
   ]
  },
  {
   "cell_type": "code",
   "execution_count": 3,
   "metadata": {},
   "outputs": [],
   "source": [
    "patient_json = {\n",
    "    \"pathology_report\":{\n",
    "        \"soap\":\"\"\"\"Lung, upper lobe, left, wedge resection, adenocarcinoma in situ with invasive adenocarcinoma (measuring 0.7 x 0.3 cm in dimension)\"\"\",\n",
    "        \n",
    "        \"report\":\"\"\"\"\n",
    "            The specimen is submitted one tissue fragment, measuring 9.5 x 2.5 x 2.4 cm in size and 14.79 gms in weight, in fresh status.\n",
    "            Grossly, it is a piece of lung tissue with obvious green dye staining at the peripheral area. The pleura is partially opened. After removing the sutures and serial cuts, there is a vague nodule lesion seen, measuring 0.7 x 0.6 cm in dimension. Regional lung induration is seen. The lesion is exposed after the suture removed. The lung tissue around the suture is involved by tumor.\n",
    "            All for section except for tissue around the suture material and labeled as labeled as: FsA and FsB: frozen section, A and B: frozen control, C1-10 and D1-6: frozen residue\n",
    "            MICROSCOPIC EVALUATION\n",
    "            Specimen Laterality: Left\n",
    "            Tumor Site: Upper lobe of lung\n",
    "            Tumor Size: Total tumor size (size of entire tumor)\n",
    "            Greatest dimension: 1.5 cm; additional dimensions: 1.0 x 0.8 cm\n",
    "            Size of invasive component (required only if invasive nonmucinous adenocarcinomas with lepidic component is present)\n",
    "            Greatest dimension: 0.7 x 0.3 cm\n",
    "            \"\"\"\n",
    "    },\n",
    "    \n",
    "    'manual_input':{\"BRAF\":'U',\n",
    "                    \"RET\":'U',\n",
    "                    \"NTRK\":'U',\n",
    "                    \"MET\":'U',\n",
    "                    \"P53\":'U',\n",
    "                    'age': '45',\n",
    "                    'gender': '1',\n",
    "                    'smoking': '1',\n",
    "                     'Nodal_meta': '0',\n",
    "                     'distant_meta': '0',\n",
    "                     'cns_mata': '1',\n",
    "                     'bone_mata': '0',\n",
    "                     'wild_type': 'U',\n",
    "                     'her2': 'N',\n",
    "                     'anti_ang': '0',\n",
    "                     'platinum': '0',\n",
    "                     'EGFR_TKIs': '0',\n",
    "                     'ALK_inh': '0',\n",
    "                     'PDL1_inh': '0',\n",
    "                     'CTLA4_inh': '1',\n",
    "                     'Radiotherapy': '0',\n",
    "                     'Chemotherapy': '0',\n",
    "                     'systemic_therapy': '1',\n",
    "                     'disease_status': '0',\n",
    "                     'ECOG': '0'}\n",
    "    }"
   ]
  },
  {
   "cell_type": "code",
   "execution_count": 5,
   "metadata": {},
   "outputs": [
    {
     "data": {
      "text/plain": [
       "[\"criteria_A's match prob : 60.0 %\",\n",
       " \"criteria_B's match prob : 11.11 %\",\n",
       " \"criteria_C's match prob : 25.0 %\",\n",
       " \"criteria_D's match prob : 33.33 %\",\n",
       " \"criteria_E's match prob : 33.33 %\",\n",
       " \"criteria_F's match prob : 66.67 %\"]"
      ]
     },
     "execution_count": 5,
     "metadata": {},
     "output_type": "execute_result"
    }
   ],
   "source": [
    "MatchResult.get_result(patient_json, criterias)"
   ]
  }
 ],
 "metadata": {
  "kernelspec": {
   "display_name": "Python 3",
   "language": "python",
   "name": "python3"
  },
  "language_info": {
   "codemirror_mode": {
    "name": "ipython",
    "version": 3
   },
   "file_extension": ".py",
   "mimetype": "text/x-python",
   "name": "python",
   "nbconvert_exporter": "python",
   "pygments_lexer": "ipython3",
   "version": "3.7.5"
  }
 },
 "nbformat": 4,
 "nbformat_minor": 4
}
